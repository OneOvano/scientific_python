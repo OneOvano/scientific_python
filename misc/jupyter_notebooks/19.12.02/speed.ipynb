{
 "cells": [
  {
   "cell_type": "code",
   "execution_count": 1,
   "metadata": {},
   "outputs": [
    {
     "data": {
      "application/javascript": [
       "IPython.notebook.set_autosave_interval(10000)"
      ]
     },
     "metadata": {},
     "output_type": "display_data"
    },
    {
     "name": "stdout",
     "output_type": "stream",
     "text": [
      "Autosaving every 10 seconds\n"
     ]
    }
   ],
   "source": [
    "%autosave 10\n",
    "import numpy as np"
   ]
  },
  {
   "cell_type": "code",
   "execution_count": 4,
   "metadata": {},
   "outputs": [
    {
     "name": "stdout",
     "output_type": "stream",
     "text": [
      "8.84 ns ± 0.0185 ns per loop (mean ± std. dev. of 7 runs, 100000000 loops each)\n",
      "36.6 ns ± 0.0498 ns per loop (mean ± std. dev. of 7 runs, 10000000 loops each)\n"
     ]
    }
   ],
   "source": [
    "# import timeit\n",
    "%timeit 2 * 3\n",
    "\n",
    "x = 10\n",
    "\n",
    "%timeit 2 * x"
   ]
  },
  {
   "cell_type": "code",
   "execution_count": 6,
   "metadata": {
    "scrolled": true
   },
   "outputs": [
    {
     "name": "stdout",
     "output_type": "stream",
     "text": [
      "4.42 µs ± 37.9 ns per loop (mean ± std. dev. of 7 runs, 100000 loops each)\n"
     ]
    }
   ],
   "source": [
    "%%timeit n = 100\n",
    "x = 0\n",
    "for i in range(n):\n",
    "    x += i"
   ]
  },
  {
   "cell_type": "code",
   "execution_count": 19,
   "metadata": {},
   "outputs": [
    {
     "name": "stdout",
     "output_type": "stream",
     "text": [
      "Execution time is 225.862458 us\n"
     ]
    },
    {
     "data": {
      "text/plain": [
       "0.0"
      ]
     },
     "execution_count": 19,
     "metadata": {},
     "output_type": "execute_result"
    }
   ],
   "source": [
    "from time import perf_counter_ns\n",
    "import functools\n",
    "\n",
    "def timeit(f):\n",
    "    n = 1000\n",
    "\n",
    "    def timed_f(*args, **kwargs):\n",
    "        t1 = perf_counter_ns()\n",
    "        for _ in range(n):\n",
    "            return_value = f(*args, **kwargs)\n",
    "        dt = perf_counter_ns() - t1\n",
    "        print('Execution time is {} us'.format(dt / n / 1000))\n",
    "        return return_value\n",
    "\n",
    "    return timed_f\n",
    "\n",
    "\n",
    "@timeit\n",
    "def integrate(a, b, n):\n",
    "    x, dx = np.linspace(a, b, n, retstep=True, endpoint=False)\n",
    "    s = 0\n",
    "    for x_ in x:\n",
    "        s += x_**2\n",
    "        pass\n",
    "    return s * dx\n",
    "\n",
    "integrate(0, 1, 1000)"
   ]
  },
  {
   "cell_type": "code",
   "execution_count": 20,
   "metadata": {},
   "outputs": [
    {
     "name": "stdout",
     "output_type": "stream",
     "text": [
      "25.3 ms ± 1.43 ms per loop (mean ± std. dev. of 7 runs, 10 loops each)\n"
     ]
    }
   ],
   "source": [
    "%%timeit\n",
    "for i in range(1_000_000):\n",
    "    pass"
   ]
  },
  {
   "cell_type": "code",
   "execution_count": 23,
   "metadata": {},
   "outputs": [
    {
     "name": "stdout",
     "output_type": "stream",
     "text": [
      "127 µs ± 368 ns per loop (mean ± std. dev. of 7 runs, 10000 loops each)\n"
     ]
    }
   ],
   "source": [
    "%%timeit\n",
    "def double(x):\n",
    "    return 2 * x\n",
    "\n",
    "[double(x) for x in range(1000)]"
   ]
  },
  {
   "cell_type": "code",
   "execution_count": 25,
   "metadata": {},
   "outputs": [
    {
     "name": "stdout",
     "output_type": "stream",
     "text": [
      "63.2 µs ± 145 ns per loop (mean ± std. dev. of 7 runs, 10000 loops each)\n"
     ]
    }
   ],
   "source": [
    "%%timeit\n",
    "[2*x for x in range(1000)]"
   ]
  },
  {
   "cell_type": "code",
   "execution_count": 27,
   "metadata": {},
   "outputs": [
    {
     "name": "stdout",
     "output_type": "stream",
     "text": [
      "557 µs ± 1.43 µs per loop (mean ± std. dev. of 7 runs, 1000 loops each)\n",
      "3.26 ms ± 26.9 µs per loop (mean ± std. dev. of 7 runs, 100 loops each)\n",
      "6.66 µs ± 23.1 ns per loop (mean ± std. dev. of 7 runs, 100000 loops each)\n"
     ]
    }
   ],
   "source": [
    "n = 8000\n",
    "\n",
    "a = np.random.rand(n)\n",
    "l = a.tolist()\n",
    "x = 1\n",
    "\n",
    "%timeit [x + i for i in l]\n",
    "%timeit [x + i for i in a]\n",
    "%timeit a + 1"
   ]
  },
  {
   "cell_type": "code",
   "execution_count": 32,
   "metadata": {},
   "outputs": [
    {
     "name": "stdout",
     "output_type": "stream",
     "text": [
      "42.8 µs ± 117 ns per loop (mean ± std. dev. of 7 runs, 10000 loops each)\n",
      "13.9 µs ± 140 ns per loop (mean ± std. dev. of 7 runs, 100000 loops each)\n",
      "667 µs ± 1.24 µs per loop (mean ± std. dev. of 7 runs, 1000 loops each)\n",
      "383 µs ± 740 ns per loop (mean ± std. dev. of 7 runs, 1000 loops each)\n"
     ]
    }
   ],
   "source": [
    "from functools import reduce\n",
    "from operator import add\n",
    "\n",
    "n = 8000\n",
    "\n",
    "a = np.random.rand(n)\n",
    "l = a.tolist()\n",
    "\n",
    "%timeit sum(l)\n",
    "%timeit np.sum(a)\n",
    "%timeit reduce(lambda s, x: s + x, l)\n",
    "%timeit reduce(add, l)"
   ]
  },
  {
   "cell_type": "code",
   "execution_count": 30,
   "metadata": {},
   "outputs": [
    {
     "name": "stdout",
     "output_type": "stream",
     "text": [
      "255 µs ± 3.8 µs per loop (mean ± std. dev. of 7 runs, 1000 loops each)\n"
     ]
    }
   ],
   "source": [
    "%%timeit l = np.random.rand(n).tolist()\n",
    "\n",
    "s = 0\n",
    "for x in l:\n",
    "    s += x"
   ]
  },
  {
   "cell_type": "code",
   "execution_count": 36,
   "metadata": {},
   "outputs": [
    {
     "name": "stdout",
     "output_type": "stream",
     "text": [
      "1.54 µs ± 9.38 ns per loop (mean ± std. dev. of 7 runs, 1000000 loops each)\n",
      "1.11 µs ± 4.87 ns per loop (mean ± std. dev. of 7 runs, 1000000 loops each)\n",
      "128 ns ± 0.602 ns per loop (mean ± std. dev. of 7 runs, 10000000 loops each)\n",
      "2.1 µs ± 6.88 ns per loop (mean ± std. dev. of 7 runs, 100000 loops each)\n"
     ]
    }
   ],
   "source": [
    "import math\n",
    "\n",
    "n = 10\n",
    "\n",
    "a = np.random.rand(n)\n",
    "l = a.tolist()\n",
    "\n",
    "%timeit [math.sin(x) for x in l]\n",
    "%timeit np.sin(a)\n",
    "\n",
    "%timeit math.sin(1)\n",
    "%timeit np.sin(1)"
   ]
  },
  {
   "cell_type": "code",
   "execution_count": 48,
   "metadata": {},
   "outputs": [],
   "source": [
    "from base64 import b64encode"
   ]
  },
  {
   "cell_type": "code",
   "execution_count": 49,
   "metadata": {},
   "outputs": [
    {
     "name": "stdout",
     "output_type": "stream",
     "text": [
      "1.24 ms ± 5.55 µs per loop (mean ± std. dev. of 7 runs, 1000 loops each)\n"
     ]
    }
   ],
   "source": [
    "%%timeit l = [b64encode(np.random.bytes(64)).decode() for _ in range(8000)]\n",
    "\n",
    "s = l[0]\n",
    "for x in l[1:]:\n",
    "    s += '\\n' + x"
   ]
  },
  {
   "cell_type": "code",
   "execution_count": 51,
   "metadata": {},
   "outputs": [
    {
     "name": "stdout",
     "output_type": "stream",
     "text": [
      "256 ms ± 6.18 ms per loop (mean ± std. dev. of 7 runs, 1 loop each)\n"
     ]
    }
   ],
   "source": [
    "%%timeit l = [b64encode(np.random.bytes(64)).decode() for _ in range(8000)]\n",
    "\n",
    "s = l[0]\n",
    "for x in l[1:]:\n",
    "    s = s + '\\n' + x"
   ]
  },
  {
   "cell_type": "code",
   "execution_count": 50,
   "metadata": {},
   "outputs": [
    {
     "name": "stdout",
     "output_type": "stream",
     "text": [
      "160 µs ± 3.36 µs per loop (mean ± std. dev. of 7 runs, 10000 loops each)\n"
     ]
    }
   ],
   "source": [
    "%%timeit l = [b64encode(np.random.bytes(64)).decode() for _ in range(8000)]\n",
    "\n",
    "'\\n'.join(l)"
   ]
  },
  {
   "cell_type": "code",
   "execution_count": 52,
   "metadata": {},
   "outputs": [
    {
     "name": "stdout",
     "output_type": "stream",
     "text": [
      "235 ms ± 781 µs per loop (mean ± std. dev. of 7 runs, 1 loop each)\n"
     ]
    }
   ],
   "source": [
    "l = [b64encode(np.random.bytes(64)).decode() for _ in range(8000)]\n",
    "%timeit reduce(add, l)"
   ]
  },
  {
   "cell_type": "code",
   "execution_count": 61,
   "metadata": {},
   "outputs": [
    {
     "name": "stdout",
     "output_type": "stream",
     "text": [
      "100 ms ± 2.05 ms per loop (mean ± std. dev. of 7 runs, 10 loops each)\n",
      "70 ms ± 1.05 ms per loop (mean ± std. dev. of 7 runs, 10 loops each)\n",
      "7.88 ms ± 14 µs per loop (mean ± std. dev. of 7 runs, 100 loops each)\n"
     ]
    }
   ],
   "source": [
    "import numba\n",
    "\n",
    "n = 1_000_000\n",
    "\n",
    "def golden_ratio(n):\n",
    "    s = 1\n",
    "    for _ in range(n):\n",
    "        s = 1 + 1 / s\n",
    "    return s\n",
    "\n",
    "\n",
    "def golden_ratio_float(n):\n",
    "    s = 1.0\n",
    "    for _ in range(n):\n",
    "        s = 1.0 + 1.0 / s\n",
    "    return s\n",
    "\n",
    "\n",
    "@numba.jit(nopython=True)\n",
    "def golden_ratio_numba(n):\n",
    "    s = 1.0\n",
    "    for _ in range(n):\n",
    "        s = 1.0 + 1.0 / s\n",
    "    return s\n",
    "\n",
    "\n",
    "golden_ratio_numba(1)\n",
    "\n",
    "\n",
    "%timeit golden_ratio(n)\n",
    "%timeit golden_ratio_float(n)\n",
    "%timeit golden_ratio_numba(n)"
   ]
  },
  {
   "cell_type": "code",
   "execution_count": 67,
   "metadata": {},
   "outputs": [
    {
     "name": "stdout",
     "output_type": "stream",
     "text": [
      "1.77 ms ± 17.2 µs per loop (mean ± std. dev. of 7 runs, 1000 loops each)\n",
      "3.38 µs ± 2.85 ns per loop (mean ± std. dev. of 7 runs, 100000 loops each)\n"
     ]
    }
   ],
   "source": [
    "def fr(a):\n",
    "    s = a[-1]\n",
    "    for x in a[-2::-1]:\n",
    "        s = x + 1.0 / s\n",
    "    return s\n",
    "\n",
    "\n",
    "@numba.njit(cache=True)\n",
    "def fr_numba(a):\n",
    "    s = a[-1]\n",
    "    for x in a[-2::-1]:\n",
    "        s = x + 1.0 / s\n",
    "    return s\n",
    "\n",
    "\n",
    "fr_numba(np.array([1.0]))\n",
    "\n",
    "\n",
    "a = np.repeat([1, 7, 5, 3], 100)\n",
    "\n",
    "%timeit fr(a)\n",
    "%timeit fr_numba(a)"
   ]
  },
  {
   "cell_type": "code",
   "execution_count": null,
   "metadata": {},
   "outputs": [],
   "source": []
  }
 ],
 "metadata": {
  "kernelspec": {
   "display_name": "Python 3",
   "language": "python",
   "name": "python3"
  },
  "language_info": {
   "codemirror_mode": {
    "name": "ipython",
    "version": 3
   },
   "file_extension": ".py",
   "mimetype": "text/x-python",
   "name": "python",
   "nbconvert_exporter": "python",
   "pygments_lexer": "ipython3",
   "version": "3.7.3"
  }
 },
 "nbformat": 4,
 "nbformat_minor": 2
}
