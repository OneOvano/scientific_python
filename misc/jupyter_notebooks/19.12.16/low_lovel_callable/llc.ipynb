{
 "cells": [
  {
   "cell_type": "code",
   "execution_count": 1,
   "metadata": {},
   "outputs": [
    {
     "data": {
      "application/javascript": [
       "IPython.notebook.set_autosave_interval(10000)"
      ]
     },
     "metadata": {},
     "output_type": "display_data"
    },
    {
     "name": "stdout",
     "output_type": "stream",
     "text": [
      "Autosaving every 10 seconds\n"
     ]
    }
   ],
   "source": [
    "%autosave 10\n",
    "\n",
    "import ctypes\n",
    "import math\n",
    "import os\n",
    "\n",
    "import numpy as np\n",
    "from scipy import LowLevelCallable\n",
    "from scipy.integrate import quad, nquad"
   ]
  },
  {
   "cell_type": "code",
   "execution_count": 2,
   "metadata": {},
   "outputs": [
    {
     "data": {
      "text/plain": [
       "(2.0, 2.220446049250313e-14)"
      ]
     },
     "execution_count": 2,
     "metadata": {},
     "output_type": "execute_result"
    }
   ],
   "source": [
    "quad(math.sin, 0, math.pi)"
   ]
  },
  {
   "cell_type": "code",
   "execution_count": 3,
   "metadata": {},
   "outputs": [],
   "source": [
    "def get_quad_llc(dll_path, func_name, argtypes=(ctypes.c_double,)):\n",
    "    cdll = ctypes.CDLL(dll_path)\n",
    "    func = cdll[func_name]\n",
    "    func.restype = ctypes.c_double\n",
    "    func.argtypes = argtypes\n",
    "    llc = LowLevelCallable(func)\n",
    "    return llc\n",
    "\n",
    "!gcc functions.c -O3 -ffast-math -fPIC -shared -o functions.so\n",
    "dll_path = os.path.join(os.getcwd(), 'functions.so')"
   ]
  },
  {
   "cell_type": "code",
   "execution_count": 4,
   "metadata": {},
   "outputs": [
    {
     "name": "stdout",
     "output_type": "stream",
     "text": [
      "running build_ext\r\n"
     ]
    }
   ],
   "source": [
    "!cythonize -i cy.pyx\n",
    "import cy\n",
    "func_cy_llc = LowLevelCallable.from_cython(cy, 'cython_func')"
   ]
  },
  {
   "cell_type": "code",
   "execution_count": 5,
   "metadata": {},
   "outputs": [
    {
     "name": "stdout",
     "output_type": "stream",
     "text": [
      "4.38 µs ± 6.06 ns per loop (mean ± std. dev. of 7 runs, 100000 loops each)\n",
      "4.46 µs ± 17.1 ns per loop (mean ± std. dev. of 7 runs, 100000 loops each)\n",
      "49.9 µs ± 278 ns per loop (mean ± std. dev. of 7 runs, 10000 loops each)\n",
      "11.3 µs ± 46 ns per loop (mean ± std. dev. of 7 runs, 100000 loops each)\n"
     ]
    }
   ],
   "source": [
    "func_llc = get_quad_llc(dll_path, 'func')\n",
    "\n",
    "def func_numpy(x):\n",
    "    return np.sin(x) / x\n",
    "\n",
    "def func_math(x):\n",
    "    return math.sin(x) / x\n",
    "\n",
    "assert quad(func_llc, 0, 1) == quad(func_cy_llc, 0, 1) == quad(func_numpy, 0, 1) == quad(func_math, 0, 1)\n",
    "\n",
    "%timeit quad(func_llc, 0, 1)\n",
    "%timeit quad(func_cy_llc, 0, 1)\n",
    "%timeit quad(func_numpy, 0, 1)\n",
    "%timeit quad(func_math, 0, 1)"
   ]
  },
  {
   "cell_type": "code",
   "execution_count": 10,
   "metadata": {},
   "outputs": [
    {
     "name": "stdout",
     "output_type": "stream",
     "text": [
      "4.36 µs ± 14 ns per loop (mean ± std. dev. of 7 runs, 100000 loops each)\n",
      "15.4 µs ± 68.4 ns per loop (mean ± std. dev. of 7 runs, 100000 loops each)\n"
     ]
    }
   ],
   "source": [
    "dphot_llc = get_quad_llc(dll_path, 'dphot_dz', (ctypes.c_int, ctypes.POINTER(ctypes.c_double)))\n",
    "\n",
    "def dphot_math(z, Omega):\n",
    "    return 1.0 / math.sqrt((1.0 - Omega) * (1.0 + z)**3 + Omega)\n",
    "\n",
    "assert quad(dphot_llc, 0, 1, args=(0.7,)) == quad(dphot_math, 0, 1, args=(0.7,))\n",
    "\n",
    "%timeit quad(dphot_llc, 0, 1, args=(0.7,))\n",
    "%timeit quad(dphot_math, 0, 1, args=(0.7,))"
   ]
  },
  {
   "cell_type": "code",
   "execution_count": 6,
   "metadata": {},
   "outputs": [
    {
     "name": "stdout",
     "output_type": "stream",
     "text": [
      "(18.007213311678726, 1.9422110470122394e-07)\n",
      "(18.007213311678722, 1.9422110459084792e-07)\n",
      "1.07 s ± 5.11 ms per loop (mean ± std. dev. of 7 runs, 1 loop each)\n",
      "9.35 s ± 22 ms per loop (mean ± std. dev. of 7 runs, 1 loop each)\n"
     ]
    }
   ],
   "source": [
    "force_llc = get_quad_llc(dll_path, 'force', (ctypes.c_int, ctypes.POINTER(ctypes.c_double)))\n",
    "\n",
    "def force_math(x, y, z, R):\n",
    "    r = math.sqrt(x*x + y*y + z*z)\n",
    "    if r > R:\n",
    "        return r**-2\n",
    "    return r / R**3\n",
    "\n",
    "print(nquad(force_llc, [[0., 10.], [0, 10.], [0., 10.]], args=(1.0,)))\n",
    "print(nquad(force_math, [[0., 10.], [0, 10.], [0., 10.]], args=(1.0,)))\n",
    "\n",
    "%timeit nquad(force_llc, [[0., 10.], [0, 10.], [0., 10.]], args=(1.0,))\n",
    "%timeit nquad(force_math, [[0., 10.], [0, 10.], [0., 10.]], args=(1.0,))"
   ]
  },
  {
   "cell_type": "code",
   "execution_count": null,
   "metadata": {},
   "outputs": [],
   "source": []
  },
  {
   "cell_type": "code",
   "execution_count": null,
   "metadata": {},
   "outputs": [],
   "source": []
  }
 ],
 "metadata": {
  "kernelspec": {
   "display_name": "Python 3",
   "language": "python",
   "name": "python3"
  },
  "language_info": {
   "codemirror_mode": {
    "name": "ipython",
    "version": 3
   },
   "file_extension": ".py",
   "mimetype": "text/x-python",
   "name": "python",
   "nbconvert_exporter": "python",
   "pygments_lexer": "ipython3",
   "version": "3.7.3"
  }
 },
 "nbformat": 4,
 "nbformat_minor": 2
}
